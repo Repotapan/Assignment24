{
 "cells": [
  {
   "cell_type": "markdown",
   "id": "f72b05bc-a11c-45eb-a9ee-cdfe6816dbc3",
   "metadata": {},
   "source": [
    "Q1. List any five functions of the pandas library with execution?"
   ]
  },
  {
   "cell_type": "markdown",
   "id": "bf7a9d0a-db2e-486c-8d38-08d95efcf77e",
   "metadata": {},
   "source": [
    "a)read_csv(): This function is used to read data from a CSV file and create a pandas DataFrame. Here's an example:"
   ]
  },
  {
   "cell_type": "code",
   "execution_count": 7,
   "id": "a0df4a4f-2fd7-450e-b976-dd95b4640bdc",
   "metadata": {},
   "outputs": [
    {
     "name": "stdout",
     "output_type": "stream",
     "text": [
      "   id  location_id  program_id accepted_payments alternate_name  \\\n",
      "0   1            1         NaN               NaN            NaN   \n",
      "1   2            2         NaN               NaN            NaN   \n",
      "2   3            3         NaN               NaN            NaN   \n",
      "3   4            4         NaN               NaN            NaN   \n",
      "4   5            5         NaN               NaN            NaN   \n",
      "\n",
      "                           application_process  \\\n",
      "0                   Walk in or apply by phone.   \n",
      "1           Apply by phone for an appointment.   \n",
      "2  Phone for information (403-4300 Ext. 4322).   \n",
      "3                              Apply by phone.   \n",
      "4                       Phone for information.   \n",
      "\n",
      "                                            audience  \\\n",
      "0  Older adults age 55 or over, ethnic minorities...   \n",
      "1       Residents of San Mateo County age 55 or over   \n",
      "2  Older adults age 55 or over who can benefit fr...   \n",
      "3  Parents, children, families with problems of c...   \n",
      "4  Low-income working families with children tran...   \n",
      "\n",
      "                                         description  \\\n",
      "0  A walk-in center for older adults that provide...   \n",
      "1  Provides training and job placement to eligibl...   \n",
      "2  Offers supportive counseling services to San M...   \n",
      "3  Provides supervised visitation services and a ...   \n",
      "4  Provides fixed 8% short term loans to eligible...   \n",
      "\n",
      "                                         eligibility email  ...  \\\n",
      "0  Age 55 or over for most programs, age 60 or ov...   NaN  ...   \n",
      "1  Age 55 or over, county resident and willing an...   NaN  ...   \n",
      "2        Resident of San Mateo County age 55 or over   NaN  ...   \n",
      "3                                               None   NaN  ...   \n",
      "4  Eligibility: Low-income family with legal cust...   NaN  ...   \n",
      "\n",
      "  interpretation_services                                           keywords  \\\n",
      "0                     NaN  ADULT PROTECTION AND CARE SERVICES, Meal Sites...   \n",
      "1                     NaN  EMPLOYMENT/TRAINING SERVICES, Job Development,...   \n",
      "2                     NaN  Geriatric Counseling, Older Adults, Gay, Lesbi...   \n",
      "3                     NaN  INDIVIDUAL AND FAMILY DEVELOPMENT SERVICES, Gr...   \n",
      "4                     NaN     COMMUNITY SERVICES, Speakers, Automobile Loans   \n",
      "\n",
      "  languages                               name required_documents  \\\n",
      "0       NaN    Fair Oaks Adult Activity Center                NaN   \n",
      "1       NaN   Second Career Employment Program                NaN   \n",
      "2       NaN             Senior Peer Counseling                NaN   \n",
      "3       NaN           Family Visitation Center                NaN   \n",
      "4       NaN  Economic Self-Sufficiency Program                NaN   \n",
      "\n",
      "      service_areas  status wait_time website taxonomy_ids  \n",
      "0             Colma  active  No wait.     NaN          NaN  \n",
      "1  San Mateo County  active   Varies.     NaN          NaN  \n",
      "2  San Mateo County  active   Varies.     NaN          NaN  \n",
      "3  San Mateo County  active  No wait.     NaN          NaN  \n",
      "4  San Mateo County  active       NaN     NaN          NaN  \n",
      "\n",
      "[5 rows x 22 columns]\n"
     ]
    }
   ],
   "source": [
    "import pandas as pd\n",
    "df = pd.read_csv('services.csv')\n",
    "print(df.head())\n"
   ]
  },
  {
   "cell_type": "markdown",
   "id": "1e23f366-378b-4c9b-8fdf-284eba55a0c2",
   "metadata": {},
   "source": [
    "b)groupby(): This function is used to group data in a DataFrame by one or more columns. Here's an example:"
   ]
  },
  {
   "cell_type": "code",
   "execution_count": 8,
   "id": "a9dc8af0-22c8-425c-8d56-cd87b52662d1",
   "metadata": {},
   "outputs": [
    {
     "name": "stdout",
     "output_type": "stream",
     "text": [
      "               id  program_id\n",
      "location_id                  \n",
      "1             1.0         NaN\n",
      "2             2.0         NaN\n",
      "3             3.0         NaN\n",
      "4             4.0         NaN\n",
      "5             5.0         NaN\n",
      "6             6.0         NaN\n",
      "7             7.0         NaN\n",
      "8             8.0         NaN\n",
      "9             9.0         NaN\n",
      "10           10.0         NaN\n",
      "11           11.0         NaN\n",
      "12           12.0         NaN\n",
      "13           13.0         NaN\n",
      "14           14.0         NaN\n",
      "15           15.0         NaN\n",
      "16           16.0         NaN\n",
      "17           17.0         NaN\n",
      "18           18.0         NaN\n",
      "19           19.0         NaN\n",
      "20           20.0         NaN\n",
      "21           21.0         NaN\n",
      "22           22.5         NaN\n"
     ]
    },
    {
     "name": "stderr",
     "output_type": "stream",
     "text": [
      "/tmp/ipykernel_70/3484782652.py:3: FutureWarning: The default value of numeric_only in DataFrameGroupBy.mean is deprecated. In a future version, numeric_only will default to False. Either specify numeric_only or select only columns which should be valid for the function.\n",
      "  print(grouped.mean())\n"
     ]
    }
   ],
   "source": [
    "df = pd.read_csv('services.csv')\n",
    "grouped = df.groupby(['location_id'])\n",
    "print(grouped.mean())\n"
   ]
  },
  {
   "cell_type": "markdown",
   "id": "ceff07bc-505a-4dbc-8dc4-5ce35277ab39",
   "metadata": {},
   "source": [
    "c)fillna(): This function is used to fill missing values in a DataFrame. Here's an example:"
   ]
  },
  {
   "cell_type": "code",
   "execution_count": 9,
   "id": "606a6e61-6522-414e-a74b-3c9d191cce75",
   "metadata": {},
   "outputs": [
    {
     "name": "stdout",
     "output_type": "stream",
     "text": [
      "   id  location_id  program_id accepted_payments alternate_name  \\\n",
      "0   1            1         0.0                 0              0   \n",
      "1   2            2         0.0                 0              0   \n",
      "2   3            3         0.0                 0              0   \n",
      "3   4            4         0.0                 0              0   \n",
      "4   5            5         0.0                 0              0   \n",
      "\n",
      "                           application_process  \\\n",
      "0                   Walk in or apply by phone.   \n",
      "1           Apply by phone for an appointment.   \n",
      "2  Phone for information (403-4300 Ext. 4322).   \n",
      "3                              Apply by phone.   \n",
      "4                       Phone for information.   \n",
      "\n",
      "                                            audience  \\\n",
      "0  Older adults age 55 or over, ethnic minorities...   \n",
      "1       Residents of San Mateo County age 55 or over   \n",
      "2  Older adults age 55 or over who can benefit fr...   \n",
      "3  Parents, children, families with problems of c...   \n",
      "4  Low-income working families with children tran...   \n",
      "\n",
      "                                         description  \\\n",
      "0  A walk-in center for older adults that provide...   \n",
      "1  Provides training and job placement to eligibl...   \n",
      "2  Offers supportive counseling services to San M...   \n",
      "3  Provides supervised visitation services and a ...   \n",
      "4  Provides fixed 8% short term loans to eligible...   \n",
      "\n",
      "                                         eligibility email  ...  \\\n",
      "0  Age 55 or over for most programs, age 60 or ov...     0  ...   \n",
      "1  Age 55 or over, county resident and willing an...     0  ...   \n",
      "2        Resident of San Mateo County age 55 or over     0  ...   \n",
      "3                                               None     0  ...   \n",
      "4  Eligibility: Low-income family with legal cust...     0  ...   \n",
      "\n",
      "  interpretation_services                                           keywords  \\\n",
      "0                       0  ADULT PROTECTION AND CARE SERVICES, Meal Sites...   \n",
      "1                       0  EMPLOYMENT/TRAINING SERVICES, Job Development,...   \n",
      "2                       0  Geriatric Counseling, Older Adults, Gay, Lesbi...   \n",
      "3                       0  INDIVIDUAL AND FAMILY DEVELOPMENT SERVICES, Gr...   \n",
      "4                       0     COMMUNITY SERVICES, Speakers, Automobile Loans   \n",
      "\n",
      "  languages                               name required_documents  \\\n",
      "0         0    Fair Oaks Adult Activity Center                  0   \n",
      "1         0   Second Career Employment Program                  0   \n",
      "2         0             Senior Peer Counseling                  0   \n",
      "3         0           Family Visitation Center                  0   \n",
      "4         0  Economic Self-Sufficiency Program                  0   \n",
      "\n",
      "      service_areas  status wait_time website taxonomy_ids  \n",
      "0             Colma  active  No wait.       0            0  \n",
      "1  San Mateo County  active   Varies.       0            0  \n",
      "2  San Mateo County  active   Varies.       0            0  \n",
      "3  San Mateo County  active  No wait.       0            0  \n",
      "4  San Mateo County  active         0       0            0  \n",
      "\n",
      "[5 rows x 22 columns]\n"
     ]
    }
   ],
   "source": [
    "import pandas as pd\n",
    "df = pd.read_csv('services.csv')\n",
    "df.fillna(0, inplace=True)\n",
    "print(df.head())\n"
   ]
  },
  {
   "cell_type": "markdown",
   "id": "a8d2de4c-77ee-4be7-9db6-0a29a1ec5bf6",
   "metadata": {},
   "source": [
    "d)pivot_table(): This function is used to create a pivot table from a DataFrame. "
   ]
  },
  {
   "cell_type": "markdown",
   "id": "0907f2e2-e4a8-435a-86d9-0e2a1215540e",
   "metadata": {},
   "source": [
    "e)merge(): This function is used to merge two DataFrames into a single DataFrame. Here's an example:"
   ]
  },
  {
   "cell_type": "code",
   "execution_count": 13,
   "id": "c060b59b-8997-4ab5-8d14-f7cb7d6ea8c9",
   "metadata": {},
   "outputs": [
    {
     "name": "stdout",
     "output_type": "stream",
     "text": [
      "Empty DataFrame\n",
      "Columns: [name, email_id, phone_number, id, location_id, program_id, accepted_payments, alternate_name, application_process, audience, description, eligibility, email, fees, funding_sources, interpretation_services, keywords, languages, required_documents, service_areas, status, wait_time, website, taxonomy_ids]\n",
      "Index: []\n",
      "\n",
      "[0 rows x 24 columns]\n"
     ]
    }
   ],
   "source": [
    "import pandas as pd\n",
    "df1 = pd.read_csv('data.csv')\n",
    "df2 = pd.read_csv('services.csv')\n",
    "merged = pd.merge(df1, df2)\n",
    "print(merged.head())\n"
   ]
  },
  {
   "cell_type": "markdown",
   "id": "9dc6426d-59c8-4ce9-b29e-acd45ad500a6",
   "metadata": {},
   "source": [
    "Q2. Given a Pandas DataFrame df with columns 'A', 'B', and 'C', write a Python function to re-index the\n",
    "DataFrame with a new index that starts from 1 and increments by 2 for each row?"
   ]
  },
  {
   "cell_type": "code",
   "execution_count": 14,
   "id": "c1ddb81f-5bde-47dc-ae58-a40036cf60ed",
   "metadata": {},
   "outputs": [],
   "source": [
    "import pandas as pd\n",
    "\n",
    "def reindex_dataframe(df):\n",
    "    new_index = range(1, len(df)*2, 2)\n",
    "    df.index = new_index\n",
    "    return df\n"
   ]
  },
  {
   "cell_type": "code",
   "execution_count": 15,
   "id": "6bf45abf-34ce-49d3-a514-3057b7540f69",
   "metadata": {},
   "outputs": [
    {
     "name": "stdout",
     "output_type": "stream",
     "text": [
      "   A  B  C\n",
      "1  1  4  7\n",
      "3  2  5  8\n",
      "5  3  6  9\n"
     ]
    }
   ],
   "source": [
    "# Example DataFrame\n",
    "df = pd.DataFrame({'A': [1, 2, 3], 'B': [4, 5, 6], 'C': [7, 8, 9]})\n",
    "\n",
    "# Call the reindex_dataframe function\n",
    "df = reindex_dataframe(df)\n",
    "\n",
    "# Print the updated DataFrame\n",
    "print(df)\n"
   ]
  },
  {
   "cell_type": "markdown",
   "id": "4a231e06-1450-45a5-b971-a1134d383209",
   "metadata": {},
   "source": [
    "Q3. You have a Pandas DataFrame df with a column named 'Values'. Write a Python function that\n",
    "iterates over the DataFrame and calculates the sum of the first three values in the 'Values' column. The\n",
    "function should print the sum to the console.\n",
    "For example, if the 'Values' column of df contains the values [10, 20, 30, 40, 50], your function should\n",
    "calculate and print the sum of the first three values, which is 60?"
   ]
  },
  {
   "cell_type": "code",
   "execution_count": 17,
   "id": "666b3f76-67ed-4865-8365-87ab2fc8dc7d",
   "metadata": {},
   "outputs": [],
   "source": [
    "import pandas \n",
    "def sum_of_first_three(df):\n",
    "    total = 0\n",
    "    for i in range(3):\n",
    "        total= total + df['values'][i]\n",
    "    print('The sum of first three values is:',total)\n",
    "    \n",
    "    "
   ]
  },
  {
   "cell_type": "code",
   "execution_count": 18,
   "id": "4d71f7cf-40b9-4efb-b607-487238595983",
   "metadata": {},
   "outputs": [
    {
     "name": "stdout",
     "output_type": "stream",
     "text": [
      "The sum of first three values is: 60\n"
     ]
    }
   ],
   "source": [
    "df=pd.DataFrame({\"values\":[10,20,30,40,50]})\n",
    "sum_of_first_three(df)"
   ]
  },
  {
   "cell_type": "markdown",
   "id": "0537a479-5442-4c8b-a536-0a789485659e",
   "metadata": {},
   "source": [
    "Q4. Given Pandas DataFrame df with a column 'Text', write a Python function to create a new column\n",
    "'Word_Count' that contains the number of words in each row of the 'Text' column?"
   ]
  },
  {
   "cell_type": "code",
   "execution_count": 19,
   "id": "34e23c9d-e77b-4b51-a836-49ff2d42b835",
   "metadata": {},
   "outputs": [],
   "source": [
    "import pandas as pd\n",
    "\n",
    "def add_word_count_column(df):\n",
    "    df['Word_Count'] = df['Text'].str.split().apply(len)\n",
    "    return df\n"
   ]
  },
  {
   "cell_type": "code",
   "execution_count": 21,
   "id": "a3ba9032-4ff4-4871-acbc-241a91d29eb0",
   "metadata": {},
   "outputs": [
    {
     "name": "stdout",
     "output_type": "stream",
     "text": [
      "                Text  Word_Count\n",
      "0        Hello world           2\n",
      "1       How are you?           3\n",
      "2  Python is awesome           3\n"
     ]
    }
   ],
   "source": [
    "# Example DataFrame\n",
    "df = pd.DataFrame({'Text': ['Hello world', 'How are you?', 'Python is awesome']})\n",
    "\n",
    "# Call the add_word_count_column function\n",
    "df = add_word_count_column(df)\n",
    "\n",
    "# Print the updated DataFrame\n",
    "print(df)\n"
   ]
  },
  {
   "cell_type": "markdown",
   "id": "a166ed26-374b-4642-9b32-8257d65ed899",
   "metadata": {},
   "source": [
    "Q5. How are DataFrame.size() and DataFrame.shape() different?"
   ]
  },
  {
   "cell_type": "markdown",
   "id": "402b297e-efb5-4d4c-a9a1-debb6364890e",
   "metadata": {},
   "source": [
    "Both DataFrame.size() and DataFrame.shape() are used to get information about the dimensions of a Pandas DataFrame, but they differ in what information they provide:\n",
    "\n",
    "DataFrame.size() returns the total number of elements in the DataFrame. It is equivalent to the number of rows multiplied by the number of columns.\n",
    "DataFrame.shape() returns a tuple representing the dimensions of the DataFrame. The tuple contains two elements: the number of rows and the number of columns."
   ]
  },
  {
   "cell_type": "code",
   "execution_count": 22,
   "id": "08ece228-df16-4389-aee4-65ed51727778",
   "metadata": {},
   "outputs": [
    {
     "name": "stdout",
     "output_type": "stream",
     "text": [
      "9\n",
      "(3, 3)\n"
     ]
    }
   ],
   "source": [
    "import pandas as pd\n",
    "\n",
    "# Example DataFrame\n",
    "df = pd.DataFrame({'A': [1, 2, 3], 'B': [4, 5, 6], 'C': [7, 8, 9]})\n",
    "\n",
    "# Print the size of the DataFrame\n",
    "print(df.size)\n",
    "\n",
    "# Print the shape of the DataFrame\n",
    "print(df.shape)\n"
   ]
  },
  {
   "cell_type": "markdown",
   "id": "bad7eed6-0b95-42b8-b1d4-0f00eaf0e087",
   "metadata": {},
   "source": [
    "Q6. Which function of pandas do we use to read an excel file?"
   ]
  },
  {
   "cell_type": "markdown",
   "id": "c810de45-27fb-485d-bd14-899000fadcae",
   "metadata": {},
   "source": [
    "To read an Excel file using Pandas, we can use the read_excel() function. This function is used to read data from an Excel file and return it as a Pandas DataFrame. "
   ]
  },
  {
   "cell_type": "markdown",
   "id": "b411002b-9a0a-49fe-b7da-5d92a3ec4f20",
   "metadata": {},
   "source": [
    "Q7. You have a Pandas DataFrame df that contains a column named 'Email' that contains email\n",
    "addresses in the format 'username@domain.com'. Write a Python function that creates a new column\n",
    "'Username' in df that contains only the username part of each email address?"
   ]
  },
  {
   "cell_type": "code",
   "execution_count": 25,
   "id": "07ad7602-6c75-4fe8-a89f-c87c80917a3a",
   "metadata": {},
   "outputs": [
    {
     "name": "stdout",
     "output_type": "stream",
     "text": [
      "              Email Username\n",
      "0  john@example.com     john\n",
      "1  jane@example.com     jane\n",
      "2   bob@example.com      bob\n"
     ]
    }
   ],
   "source": [
    "import pandas as pd\n",
    "\n",
    "def extract_username(df):\n",
    "    df['Username'] = df['Email'].str.split('@').str[0]\n",
    "    return df\n",
    "\n",
    "df = pd.DataFrame({'Email': ['john@example.com', 'jane@example.com', 'bob@example.com']})\n",
    "\n",
    "# Call the extract_username function\n",
    "df = extract_username(df)\n",
    "\n",
    "# Print the updated DataFrame\n",
    "print(df)\n",
    "\n",
    "\n",
    "\n",
    "\n",
    "\n",
    "\n"
   ]
  },
  {
   "cell_type": "markdown",
   "id": "01caf8e2-9b82-4645-b41b-9ad3f3eaa991",
   "metadata": {},
   "source": [
    "Q8. You have a Pandas DataFrame df with columns 'A', 'B', and 'C'. Write a Python function that selects\n",
    "all rows where the value in column 'A' is greater than 5 and the value in column 'B' is less than 10. The\n",
    "function should return a new DataFrame that contains only the selected rows?\n",
    "For example, if df contains the following values:\n",
    "A B C\n",
    "0 3 5 1\n",
    "1 8 2 7\n",
    "2 6 9 4\n",
    "3 2 3 5\n",
    "4 9 1 2"
   ]
  },
  {
   "cell_type": "code",
   "execution_count": 27,
   "id": "523dbca4-60b7-4785-be26-02321ecd7dbd",
   "metadata": {},
   "outputs": [
    {
     "name": "stdout",
     "output_type": "stream",
     "text": [
      "   A  B  C\n",
      "1  8  2  7\n",
      "2  6  9  4\n",
      "4  9  1  2\n"
     ]
    }
   ],
   "source": [
    "import pandas as pd \n",
    "def select_rows(df):\n",
    "    selected_rows = df[(df['A'] > 5) & (df['B'] < 10)]\n",
    "    return selected_rows\n",
    "\n",
    "df=pd.DataFrame({'A':[3,8,6,2,9],'B':[5,2,9,3,1],'C':[1,7,4,5,2]})\n",
    "selected_rows=select_rows(df)\n",
    "print(selected_rows)"
   ]
  },
  {
   "cell_type": "markdown",
   "id": "02c0100c-f18e-4e3f-bf94-2551a870283e",
   "metadata": {},
   "source": [
    "Q9. Given a Pandas DataFrame df with a column 'Values', write a Python function to calculate the mean,\n",
    "median, and standard deviation of the values in the 'Values' column?"
   ]
  },
  {
   "cell_type": "code",
   "execution_count": 3,
   "id": "570a5e4a-2223-46fe-8a30-2bc8142dba70",
   "metadata": {},
   "outputs": [],
   "source": [
    "import pandas as pd \n",
    "def calculate_stats(df):\n",
    "    mean = df['Values'].mean()\n",
    "    median = df['Values'].median()\n",
    "    std_dev = df['Values'].std()\n",
    "    return mean, median, std_dev\n",
    "    \n",
    "df=pd.DataFrame({'Values':[2,4,5,6,7,8]})\n",
    "cal=calculate_stats(df)"
   ]
  },
  {
   "cell_type": "code",
   "execution_count": 4,
   "id": "8675d776-0b78-4f14-acb2-32f421bae77a",
   "metadata": {},
   "outputs": [
    {
     "data": {
      "text/plain": [
       "(5.333333333333333, 5.5, 2.160246899469287)"
      ]
     },
     "execution_count": 4,
     "metadata": {},
     "output_type": "execute_result"
    }
   ],
   "source": [
    "cal"
   ]
  },
  {
   "cell_type": "markdown",
   "id": "e06bd14b-ab61-4fed-b420-7339b255de77",
   "metadata": {},
   "source": [
    "Q10. Given a Pandas DataFrame df with a column 'Sales' and a column 'Date', write a Python function to\n",
    "create a new column 'MovingAverage' that contains the moving average of the sales for the past 7 days\n",
    "for each row in the DataFrame. The moving average should be calculated using a window of size 7 and\n",
    "should include the current day?"
   ]
  },
  {
   "cell_type": "code",
   "execution_count": 8,
   "id": "1354b4e7-7b74-42ff-bbf9-38f5c16ae233",
   "metadata": {},
   "outputs": [
    {
     "name": "stdout",
     "output_type": "stream",
     "text": [
      "        Date  Sales  MovingAverage\n",
      "0 2023-01-17     80           80.0\n",
      "1 2023-01-18     90           85.0\n",
      "2 2023-01-19    100           90.0\n",
      "3 2023-01-20    110           95.0\n",
      "4 2023-01-21    120          100.0\n",
      "5 2023-01-22    130          105.0\n",
      "6 2023-01-23    140          110.0\n",
      "7 2023-01-24    150          120.0\n"
     ]
    }
   ],
   "source": [
    "def add_moving_average_column(df):\n",
    "    # Convert the 'Date' column to a datetime object\n",
    "    df['Date'] = pd.to_datetime(df['Date'])\n",
    "\n",
    "    # Sort the DataFrame by date\n",
    "    df.sort_values('Date', inplace=True)\n",
    "\n",
    "    # Calculate the moving average of sales for the past 7 days\n",
    "    df['MovingAverage'] = df['Sales'].rolling(window=7, min_periods=1).mean()\n",
    "\n",
    "    return df\n",
    "\n",
    "df = pd.DataFrame({'Date': ['2023-01-17', '2023-01-18', '2023-01-19', '2023-01-20', '2023-01-21', '2023-01-22', '2023-01-23', '2023-01-24'],\n",
    "                   'Sales': [ 80, 90, 100, 110, 120, 130, 140, 150]})\n",
    "\n",
    "df_with_ma = add_moving_average_column(df)\n",
    "print(df_with_ma)\n"
   ]
  },
  {
   "cell_type": "markdown",
   "id": "6059950f-207f-4f5d-b4ac-6146a07f5acc",
   "metadata": {},
   "source": [
    "Q11. You have a Pandas DataFrame df with a column 'Date'. Write a Python function that creates a new\n",
    "column 'Weekday' in the DataFrame. The 'Weekday' column should contain the weekday name (e.g.\n",
    "Monday, Tuesday) corresponding to each date in the 'Date' column?"
   ]
  },
  {
   "cell_type": "code",
   "execution_count": 9,
   "id": "e3199acc-704e-4a64-afb2-dcedf68b288c",
   "metadata": {},
   "outputs": [
    {
     "name": "stdout",
     "output_type": "stream",
     "text": [
      "        date    weekday\n",
      "0 2023-12-02   Saturday\n",
      "1 2023-12-03     Sunday\n",
      "2 2023-12-04     Monday\n",
      "3 2023-12-05    Tuesday\n",
      "4 2023-12-06  Wednesday\n"
     ]
    }
   ],
   "source": [
    "def new_weekday(df):\n",
    "    df['weekday'] = df['date'].dt.day_name()\n",
    "    return df\n",
    "df=pd.DataFrame({'date':['2023-12-02','2023-12-03','2023-12-04','2023-12-05','2023-12-06']})\n",
    "df['date']=pd.to_datetime(df['date'])\n",
    "df_with_weekday=new_weekday(df)\n",
    "print(df_with_weekday)"
   ]
  },
  {
   "cell_type": "markdown",
   "id": "71c9cb51-85a9-4e75-8871-b1cb9f50993a",
   "metadata": {},
   "source": [
    "Q12. Given a Pandas DataFrame df with a column 'Date' that contains timestamps, write a Python\n",
    "function to select all rows where the date is between '2023-01-01' and '2023-01-31'?"
   ]
  },
  {
   "cell_type": "code",
   "execution_count": 13,
   "id": "93920b71-9106-42e7-9591-423fc1d87590",
   "metadata": {},
   "outputs": [
    {
     "name": "stdout",
     "output_type": "stream",
     "text": [
      "        Date\n",
      "0 2023-01-01\n",
      "1 2023-01-02\n",
      "2 2023-01-03\n"
     ]
    }
   ],
   "source": [
    "def select_january_rows(df):\n",
    "    df['Date'] = pd.to_datetime(df['Date'])     # Convert the 'Date' column to a datetime object\n",
    "    \n",
    "                     # Create a boolean mask for the rows where the date is between '2023-01-01' and '2023-01-31'\n",
    "    mask = (df['Date'] >= '2023-01-01') & (df['Date'] <= '2023-01-31')\n",
    "    return df.loc[mask]                                  # Return a new DataFrame with only the selected rows\n",
    "    \n",
    "df = pd.DataFrame({'Date': ['2023-01-01', '2023-01-02', '2023-01-03', '2023-02-01', '2023-02-02']})             \n",
    "\n",
    "january_df = select_january_rows(df)\n",
    "print(january_df)"
   ]
  },
  {
   "cell_type": "markdown",
   "id": "e67e83c0-a9e7-402b-b30a-d571c478448c",
   "metadata": {},
   "source": [
    "Q13. To use the basic functions of pandas, what is the first and foremost necessary library that needs to\n",
    "be imported?"
   ]
  },
  {
   "cell_type": "markdown",
   "id": "2c85c0ca-b5be-465f-8695-1bae9208ebc2",
   "metadata": {},
   "source": [
    "To use the basic functions of Pandas, you need to import the Pandas library in Python.\n",
    "The standard way to import Pandas is to use the import statement:\n",
    "import pandas as pd\n",
    "\n",
    "This imports the Pandas library with the alias pd, which is the most commonly used alias in the Pandas community.\n",
    "Once you have imported Pandas, you can use its functions to create, manipulate, and analyze data in Python."
   ]
  },
  {
   "cell_type": "code",
   "execution_count": null,
   "id": "942fc5e5-0eeb-42be-bf70-809ffaa44926",
   "metadata": {},
   "outputs": [],
   "source": []
  }
 ],
 "metadata": {
  "kernelspec": {
   "display_name": "Python 3 (ipykernel)",
   "language": "python",
   "name": "python3"
  },
  "language_info": {
   "codemirror_mode": {
    "name": "ipython",
    "version": 3
   },
   "file_extension": ".py",
   "mimetype": "text/x-python",
   "name": "python",
   "nbconvert_exporter": "python",
   "pygments_lexer": "ipython3",
   "version": "3.10.8"
  }
 },
 "nbformat": 4,
 "nbformat_minor": 5
}
